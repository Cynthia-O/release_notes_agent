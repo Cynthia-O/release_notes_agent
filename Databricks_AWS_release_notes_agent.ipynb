{
 "cells": [
  {
   "cell_type": "markdown",
   "metadata": {},
   "source": [
    "### Drafting a release notes agent for Databricks on AWS\n"
   ]
  },
  {
   "cell_type": "code",
   "execution_count": null,
   "metadata": {},
   "outputs": [],
   "source": [
    "# Simple usage\n",
    "from release_notes_agent import setup_release_notes_agent\n",
    "\n",
    "# Set up the agent\n",
    "agent = setup_release_notes_agent()\n",
    "\n",
    "# Ask questions\n",
    "response = agent.predict({\n",
    "    \"messages\": [{\"role\": \"user\", \"content\": \"What are the latest cost optimization features?\"}]\n",
    "})\n",
    "print(response.content)"
   ]
  },
  {
   "cell_type": "code",
   "execution_count": null,
   "metadata": {},
   "outputs": [],
   "source": [
    "# To run the script:\n",
    "# cd Databricks/release_notes_agent\n",
    "# python release_notes_agent.py"
   ]
  },
  {
   "cell_type": "code",
   "execution_count": null,
   "metadata": {},
   "outputs": [],
   "source": []
  }
 ],
 "metadata": {
  "kernelspec": {
   "display_name": "Python 3",
   "language": "python",
   "name": "python3"
  },
  "language_info": {
   "name": "python",
   "version": "3.11.3"
  }
 },
 "nbformat": 4,
 "nbformat_minor": 2
}
